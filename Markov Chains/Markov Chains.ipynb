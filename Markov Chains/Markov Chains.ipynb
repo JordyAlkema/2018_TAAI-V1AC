{
 "cells": [
  {
   "cell_type": "markdown",
   "metadata": {},
   "source": [
    "# Markov Chains\n",
    "\n",
    "In dit document gaan wij doormiddel van een Markov Chains de kansen berekenen van de toestand van een Flumph.\n",
    "\n",
    "De Flumph op Planeet Seyst leeft in een van 3 toestanden (later 4), hongerig, tevreden of opgejaagd. Alle Flumphs beginnen met de zelfde kansen om in een van de 3 staten te komen. In welke staat een flumph morgen is hangt af van de kansen in welke staat hij nu is.\n",
    "\n",
    "Om de kansberekening te maken beginnen wij met de algemene kansenmatrix. In deze matrix staan de kansen welke toestand een flumph krijgt afhankelijk van zijn huidig toestand.\n",
    "\n",
    "De matrix is als volgt.\n",
    "\n",
    "$\n",
    "    \\begin{bmatrix}\n",
    "    0.8 & 0.1 &0.1 \\\\\n",
    "    0.4 & 0.5 &0.1 \\\\\n",
    "    0.6 & 0.2 & 0.2\n",
    "    \\end{bmatrix}\n",
    "$\n",
    "\n",
    "Wij gaan nu voor iedere dag het dot product nemen van de vorige dag en de algemene kansenmatrix. Dit geeft ons de kansmatrix voor die specifieke dag en dan kunnen wij de volgende dag berekenen."
   ]
  },
  {
   "cell_type": "markdown",
   "metadata": {},
   "source": [
    "## Flumph met 3 toestanden"
   ]
  },
  {
   "cell_type": "code",
   "execution_count": 9,
   "metadata": {},
   "outputs": [],
   "source": [
    "import matplotlib.pyplot as plt\n",
    "import numpy as np"
   ]
  },
  {
   "cell_type": "markdown",
   "metadata": {},
   "source": [
    "Eerst berekenen wij de kansen voor het aangegeven aantal dagen."
   ]
  },
  {
   "cell_type": "code",
   "execution_count": 10,
   "metadata": {},
   "outputs": [],
   "source": [
    "def calulcate_future(n_days, chances, matrix):\n",
    "    days = [chances]\n",
    "    \n",
    "    for i in range(n_days):\n",
    "        days.append(np.dot(days[-1], matrix))\n",
    "        \n",
    "    return days"
   ]
  },
  {
   "cell_type": "markdown",
   "metadata": {},
   "source": [
    "Nu berekenen wij de meest waarschijnlijke toestand."
   ]
  },
  {
   "cell_type": "code",
   "execution_count": 11,
   "metadata": {},
   "outputs": [],
   "source": [
    "def most_likely_state(data):\n",
    "    most_likely_index = 0\n",
    "    first_date = 0\n",
    "    \n",
    "    for i in range(len(data[-1])):\n",
    "        if data[-1][i] > data[-1][most_likely_index]:\n",
    "            most_likely_index = i\n",
    "    \n",
    "    # now that we know what is most likely to be the state, we check from what day this has been the most likely\n",
    "    for day in reversed(range(len(data[:-2]))):\n",
    "        for field in range(len(data[0])):\n",
    "            if field == most_likely_index:\n",
    "                continue\n",
    "                \n",
    "            if data[day][field] > data[day][most_likely_index]:\n",
    "                # Return the day, add 1 becuase otherwise we are returning the index not the day.\n",
    "                return most_likely_index, data[-1][most_likely_index], day + 1\n",
    "    \n",
    "    return most_likely_index, data[-1][most_likely_index], 0"
   ]
  },
  {
   "cell_type": "code",
   "execution_count": 12,
   "metadata": {},
   "outputs": [],
   "source": [
    "def plot(data):\n",
    "    axes = plt.gca()\n",
    "    axes.set_xlim([0, len(data) - 1])\n",
    "    axes.set_ylim([0,1])\n",
    "    plt.plot(data)\n",
    "    \n",
    "    plt.gca().legend(states)\n",
    "\n",
    "    plt.ylabel('Chance')\n",
    "    plt.xlabel('Days')\n",
    "    plt.show()"
   ]
  },
  {
   "cell_type": "markdown",
   "metadata": {},
   "source": [
    "Om de toestand van een flump op de n dag te berekenen, berekenen wij het dot product van de n-1 dag en de kans matrix."
   ]
  },
  {
   "cell_type": "code",
   "execution_count": 13,
   "metadata": {},
   "outputs": [
    {
     "name": "stdout",
     "output_type": "stream",
     "text": [
      "Starting at day 1 Flumph will most likely be hungry, he/she has a 70.36% chance to be at the last day.\n"
     ]
    }
   ],
   "source": [
    "states = [\n",
    "    'hungry',\n",
    "    'Satisfied',\n",
    "    'Hunted',\n",
    "    'Aggresive' # Used in next part\n",
    "]\n",
    "\n",
    "matrix = [\n",
    "    [0.8, 0.1, 0.1], # Hongerig\n",
    "    [0.4, 0.5, 0.1], # Tevreden\n",
    "    [0.6, 0.2, 0.2]  # Opgejaagd\n",
    "]\n",
    "\n",
    "newbornFlumphChances = [0.1, 0.7, 0.2]\n",
    "days = 10\n",
    "\n",
    "flumphChances = calulcate_future(days, newbornFlumphChances, matrix)\n",
    "final_state, chance, start_date = most_likely_state(flumphChances)\n",
    "\n",
    "print('Starting at day '+ str(start_date) +' Flumph will most likely be ' + states[final_state] + ', he/she has a ' + str(round(chance * 100, 2)) + '% chance to be at the last day.')"
   ]
  },
  {
   "cell_type": "code",
   "execution_count": 14,
   "metadata": {},
   "outputs": [
    {
     "data": {
      "image/png": "[encoded data removed]",
      "text/plain": [
       "<Figure size 432x288 with 1 Axes>"
      ]
     },
     "metadata": {
      "needs_background": "light"
     },
     "output_type": "display_data"
    }
   ],
   "source": [
    "plot(flumphChances)"
   ]
  },
  {
   "cell_type": "markdown",
   "metadata": {},
   "source": [
    "### Conclusie van 3 toestanden\n",
    "\n",
    "Binnen de eerste 10 dagen stagneert de kansmatrix, hierdoor zijn er geen veranderingen meer in de kansen tot oneindigheid. De grootste kans blijft hierdoor hongerig."
   ]
  },
  {
   "cell_type": "markdown",
   "metadata": {},
   "source": [
    "## Flumph met 4 toestanden"
   ]
  },
  {
   "cell_type": "code",
   "execution_count": 15,
   "metadata": {},
   "outputs": [
    {
     "data": {
      "image/png": "[encoded data removed]",
      "text/plain": [
       "<Figure size 432x288 with 1 Axes>"
      ]
     },
     "metadata": {
      "needs_background": "light"
     },
     "output_type": "display_data"
    },
    {
     "name": "stdout",
     "output_type": "stream",
     "text": [
      "Starting at day 2 Flumph will most likely be hungry he/she has a 30.65% chance to be so.\n"
     ]
    }
   ],
   "source": [
    "matrix = [\n",
    "    [0.5, 0.1, 0.1, 0.3], # Hongerig\n",
    "    [0.4, 0.4, 0.1, 0.1], # Tevreden\n",
    "    [0.1, 0.2, 0.2, 0.5], # Opgejaagd\n",
    "    [0.1, 0.4, 0.2, 0.3]  # Agressief\n",
    "]\n",
    "\n",
    "newbornFlumphChances = [0.1, 0.6, 0.2, 0.1]\n",
    "days = 10\n",
    "\n",
    "flumphChances = calulcate_future(days, newbornFlumphChances, matrix)\n",
    "plot(flumphChances)\n",
    "final_state, chance, start_date = most_likely_state(flumphChances)\n",
    "\n",
    "print('Starting at day '+ str(start_date) +' Flumph will most likely be ' + states[final_state] + ' he/she has a ' + str(round(chance * 100, 2)) + '% chance to be so.')"
   ]
  },
  {
   "cell_type": "markdown",
   "metadata": {},
   "source": [
    "### Conclusie van 4 toestanden\n",
    "\n",
    "Ook bij een Flumph met 4 toestanden stagneert de kans-matrix in de eerste 10 dagen. Hierdoor blijven de kansen gelijk tot in oneindigheid. De grootste kans blijft dat de Flump Hongerig is."
   ]
  },
  {
   "cell_type": "markdown",
   "metadata": {},
   "source": [
    "Door het toevoegen van de 4e toestand is er nu een veel lagere kans dat de flump hongerig is, en zijn de kansen een stuk gelijker geworden. Dit lijkt een goede toevoeging te zijn geweest."
   ]
  }
 ],
 "metadata": {
  "kernelspec": {
   "display_name": "Python 3",
   "language": "python",
   "name": "python3"
  },
  "language_info": {
   "codemirror_mode": {
    "name": "ipython",
    "version": 3
   },
   "file_extension": ".py",
   "mimetype": "text/x-python",
   "name": "python",
   "nbconvert_exporter": "python",
   "pygments_lexer": "ipython3",
   "version": "3.7.3"
  }
 },
 "nbformat": 4,
 "nbformat_minor": 2
}
