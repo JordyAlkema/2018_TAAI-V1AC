{
 "cells": [
  {
   "cell_type": "markdown",
   "metadata": {},
   "source": [
    "# Magic Square"
   ]
  },
  {
   "cell_type": "markdown",
   "metadata": {},
   "source": [
    "In dit document ga ik een Magische vierkant oplossen doormiddel van NumPy, een magische vierkant is een vierkante matrix waarvan alle cijfers die op een horizontale, verticale en diagonale lijn staan bij elkaar optellen naar hetzelfde getal."
   ]
  },
  {
   "cell_type": "markdown",
   "metadata": {},
   "source": [
    "Een voorbeeld van een Magische vierkant\n",
    "\n",
    "\\begin{bmatrix}\n",
    "    8 & 3 & 4 \\\\\n",
    "    1 & 5 & 9 \\\\\n",
    "    6 & 7 & 2 \\\\\n",
    "\\end{bmatrix}\n",
    "\n",
    "Dit vierkant telt in alle richtingen op tot het getal 15."
   ]
  },
  {
   "cell_type": "markdown",
   "metadata": {},
   "source": [
    "Om dit op te kunnen lossen moeten wij dit probleem zien als een stelsel vergelijking in de matrix vorm.\n",
    "\n",
    "$A \\vec{x} = \\vec{b}$"
   ]
  },
  {
   "cell_type": "markdown",
   "metadata": {},
   "source": [
    "## Oplossen van een Magic Square"
   ]
  },
  {
   "cell_type": "markdown",
   "metadata": {},
   "source": [
    "Dit is ons Magische Vierkant wat wij gaan oplossen."
   ]
  },
  {
   "cell_type": "markdown",
   "metadata": {},
   "source": [
    "\\begin{bmatrix}\n",
    "    8 & ? & ? \\\\\n",
    "    ? & ? & 7 \\\\\n",
    "    ? & ? & 2 \\\\\n",
    "\\end{bmatrix}"
   ]
  },
  {
   "cell_type": "markdown",
   "metadata": {},
   "source": [
    "Dit is hoe het in de code er uit ziet."
   ]
  },
  {
   "cell_type": "code",
   "execution_count": 2,
   "metadata": {},
   "outputs": [],
   "source": [
    "import numpy as np\n",
    "\n",
    "magicSquare = np.array([\n",
    "    8,     None,    None,\n",
    "    None,  None,    7,\n",
    "    None,  None,    2,\n",
    "])"
   ]
  },
  {
   "cell_type": "markdown",
   "metadata": {},
   "source": [
    "Om dit magische vierkant op te kunnen lossen moeten wij de vergelijkingen opstellen die er voor gaan zorgen dat alle rijen, columen en diagonalen dezelfde sum krijgen. Deze sum noemen wij $r$."
   ]
  },
  {
   "cell_type": "markdown",
   "metadata": {},
   "source": [
    "Ook is er 1 andere vergelijking, dat is de totaal vergelijking. Bij een magische vierkant is het middelste getal (bij ons dus $A_{5}$) x 3 altijd gelijk aan $r$."
   ]
  },
  {
   "cell_type": "markdown",
   "metadata": {},
   "source": [
    "**Horizontaal**\n",
    "\n",
    "$\n",
    "A_{1} \\cdot 1 + A_{2} \\cdot 1 + A_{3} \\cdot 1 - r = 0 \\\\\n",
    "A_{4} \\cdot 1 + A_{5} \\cdot 1 + A_{6} \\cdot 1 - r = 0 \\\\\n",
    "A_{7} \\cdot 1 + A_{8} \\cdot 1 + A_{0} \\cdot 1 - r = 0 \\\\ \n",
    "$\n",
    "\n",
    "**Verticaal**\n",
    "\n",
    "$\n",
    "A_{1} \\cdot 1 + A_{4} \\cdot 1 + A_{7} \\cdot 1 - r = 0 \\\\\n",
    "A_{2} \\cdot 1 + A_{5} \\cdot 1 + A_{8} \\cdot 1 - r = 0  \\\\\n",
    "A_{3} \\cdot 1 + A_{6} \\cdot 1 + A_{9} \\cdot 1 - r = 0 \\\\ \n",
    "$\n",
    "\n",
    "**Diagnonaal**\n",
    "\n",
    "$\n",
    "A_{1} \\cdot 1 + A_{3} \\cdot 1 + A_{9} \\cdot 1 - r = 0 \\\\\n",
    "A_{3} \\cdot 1 + A_{5} \\cdot 1 + A_{7} \\cdot 1 - r = 0  \\\\\n",
    "$\n",
    "\n",
    "**Totaal**\n",
    "\n",
    "$\n",
    "A_{5} \\cdot 3 - r = 0\n",
    "$"
   ]
  },
  {
   "cell_type": "markdown",
   "metadata": {},
   "source": [
    "Dit zetten wij om naar een Matrix.\n",
    "\n",
    "\\begin{bmatrix}\n",
    "    1 &  1 &  1 &  0 &  0 &  0 &  0 &  0 &  0 &  -1 \\\\\n",
    "    0 &  0 &  0 &  1 &  1 &  1 &  0 &  0 &  0 &  -1 \\\\\n",
    "    0 &  0 &  0 &  0 &  0 &  0 &  1 &  1 &  1 &  -1 \\\\\n",
    "    1 &  0 &  0 &  1 &  0 &  0 &  1 &  0 &  0 &  -1 \\\\\n",
    "    0 &  1 &  0 &  0 &  1 &  0 &  0 &  1 &  0 &  -1 \\\\\n",
    "    0 &  0 &  1 &  0 &  0 &  1 &  0 &  0 &  1 &  -1 \\\\\n",
    "    1 &  0 &  0 &  0 &  1 &  0 &  0 &  0 &  1 &  -1 \\\\\n",
    "    0 &  0 &  1 &  0 &  1 &  0 &  1 &  0 &  0 &  -1 \\\\\n",
    "    0 &  0 &  0 &  0 &  3 &  0 &  0 &  0 &  0 &  -1 \\\\\n",
    "\\end{bmatrix}\n",
    "\n",
    "Dit is hoe het er uit ziet in code"
   ]
  },
  {
   "cell_type": "code",
   "execution_count": 3,
   "metadata": {},
   "outputs": [],
   "source": [
    "defaultComparisonArray = np.array([\n",
    "    [1, 1, 1, 0, 0, 0, 0, 0, 0, -1],    # Horizontal 1\n",
    "    [0, 0, 0, 1, 1, 1, 0, 0, 0, -1],    # Horizontal 2\n",
    "    [0, 0, 0, 0, 0, 0, 1, 1, 1, -1],    # Horizontal 3\n",
    "    [1, 0, 0, 1, 0, 0, 1, 0, 0, -1],    # Vertical 1\n",
    "    [1, 0, 0, 0, 1, 0, 0, 0, 1, -1],    # Diagonally L -> R\n",
    "    [0, 1, 0, 0, 1, 0, 0, 1, 0, -1],    # Vertical 2\n",
    "    [0, 0, 1, 0, 1, 0, 1, 0, 0, -1],    # Diagonally R -> L\n",
    "    [0, 0, 1, 0, 0, 1, 0, 0, 1, -1],    # Vertical 3\n",
    "    [0, 0, 0, 0, 3, 0, 0, 0, 0, -1],    # Total of each row\n",
    "])"
   ]
  },
  {
   "cell_type": "code",
   "execution_count": 4,
   "metadata": {},
   "outputs": [],
   "source": [
    "comparisonMagicSquare = np.zeros(shape=(9, 1))"
   ]
  },
  {
   "cell_type": "markdown",
   "metadata": {},
   "source": [
    "Voor het nemen van de inverse van de matrix moet de matrix vierkant zijn, op dit moment is de matrix 10x9, wij kunnen hier een 9x9 van maken door de getallen die wij kennen al weg te halen uit de vergelijking. \n",
    "\n",
    "Zo ziet dit er uit in de code."
   ]
  },
  {
   "cell_type": "code",
   "execution_count": 5,
   "metadata": {},
   "outputs": [],
   "source": [
    "for rowKey in range(len(defaultComparisonArray) - 1):\n",
    "    for numberKey in range(len(defaultComparisonArray[rowKey]) - 1):\n",
    "\n",
    "        # Als wij de waarde niet kennen gaan wij door\n",
    "        if magicSquare[numberKey] is None:\n",
    "            continue\n",
    "\n",
    "        comparisonMagicSquare[rowKey] -= defaultComparisonArray[rowKey][numberKey] * magicSquare[numberKey]\n",
    "        defaultComparisonArray[rowKey][numberKey] = 0"
   ]
  },
  {
   "cell_type": "markdown",
   "metadata": {},
   "source": [
    "Omdat de determinant van de matrix 0 is, bestaat er geen inverse van de matrix. Wij kunnen wel een schatting van de inverse nemen. Dit heet een pseudo inverse. Wij kunnen dit doen door een functie uit NumPy te gebruiken.\n",
    "\n",
    "Dit ziet er uit als volgt."
   ]
  },
  {
   "cell_type": "code",
   "execution_count": 11,
   "metadata": {},
   "outputs": [],
   "source": [
    "inverseComparisonArray = np.linalg.pinv(defaultComparisonArray)"
   ]
  },
  {
   "cell_type": "markdown",
   "metadata": {},
   "source": [
    "Wij kunnen nu de missende getallen uitrekenen door het dot product te nemen.\n",
    "\n",
    "Omdat wij de vergelijkingen hebben aangepast om deze vierkant te maken staan er nu op de plekken waarvan wij de getallen al wisten 'incorrecte' getallen (niet echt incorrect natuurlijk, maar incorrect omdat dit niet het antwoord is voor het magische vierkant)"
   ]
  },
  {
   "cell_type": "code",
   "execution_count": 13,
   "metadata": {},
   "outputs": [],
   "source": [
    "solutionVector = inverseComparisonArray.dot(comparisonMagicSquare)"
   ]
  },
  {
   "cell_type": "markdown",
   "metadata": {},
   "source": [
    "Wij hebben nu de antwoorden, deze hoeven wij nu alleen nog maar in te vullen op de plekken waar de getallen miste."
   ]
  },
  {
   "cell_type": "code",
   "execution_count": 8,
   "metadata": {},
   "outputs": [],
   "source": [
    "for item in range(len(magicSquare) - 1):\n",
    "    if magicSquare[item] is None:\n",
    "        magicSquare[item] = solutionVector[item][0]"
   ]
  },
  {
   "cell_type": "markdown",
   "metadata": {},
   "source": [
    "En wij maken ze wat beter leesbaar."
   ]
  },
  {
   "cell_type": "code",
   "execution_count": 9,
   "metadata": {},
   "outputs": [],
   "source": [
    "finalSolution = np.around(magicSquare.astype(np.double), 3)\n",
    "finalSolution.resize(3, 3)"
   ]
  },
  {
   "cell_type": "code",
   "execution_count": 10,
   "metadata": {},
   "outputs": [
    {
     "name": "stdout",
     "output_type": "stream",
     "text": [
      "[[8. 1. 6.]\n",
      " [3. 5. 7.]\n",
      " [4. 9. 2.]]\n"
     ]
    }
   ],
   "source": [
    "print(finalSolution)"
   ]
  }
 ],
 "metadata": {
  "kernelspec": {
   "display_name": "Python 3",
   "language": "python",
   "name": "python3"
  },
  "language_info": {
   "codemirror_mode": {
    "name": "ipython",
    "version": 3
   },
   "file_extension": ".py",
   "mimetype": "text/x-python",
   "name": "python",
   "nbconvert_exporter": "python",
   "pygments_lexer": "ipython3",
   "version": "3.7.3"
  }
 },
 "nbformat": 4,
 "nbformat_minor": 2
}
