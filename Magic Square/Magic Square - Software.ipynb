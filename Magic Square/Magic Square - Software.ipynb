{
 "cells": [
  {
   "cell_type": "markdown",
   "metadata": {},
   "source": [
    "# Oplossen van een Magic Square met NumPy"
   ]
  },
  {
   "cell_type": "markdown",
   "metadata": {},
   "source": [
    "In dit document ga ik een Magische vierkant oplossen doormiddel van NumPy."
   ]
  },
  {
   "cell_type": "code",
   "execution_count": 2,
   "metadata": {},
   "outputs": [],
   "source": [
    "import numpy as np"
   ]
  },
  {
   "cell_type": "markdown",
   "metadata": {},
   "source": [
    "Dit is ons Magische Vierkant wat wij gaan oplossen, de None betekent hier dat wij het getal niet kennen en deze dus moeten gaan uitrekenen."
   ]
  },
  {
   "cell_type": "code",
   "execution_count": 3,
   "metadata": {},
   "outputs": [],
   "source": [
    "magicSquare = np.array([\n",
    "    8,     None,    None,\n",
    "    None,  None,    7,\n",
    "    None,  None,    2,\n",
    "])"
   ]
  },
  {
   "cell_type": "markdown",
   "metadata": {},
   "source": [
    "Dit zijn alle vergelijkingen uit het handmatig oplossen omgezet naar een matrix."
   ]
  },
  {
   "cell_type": "code",
   "execution_count": 4,
   "metadata": {},
   "outputs": [],
   "source": [
    "defaultComparisonArray = np.array([\n",
    "    [1, 1, 1, 0, 0, 0, 0, 0, 0, -1],    # Horizontal 1\n",
    "    [0, 0, 0, 1, 1, 1, 0, 0, 0, -1],    # Horizontal 2\n",
    "    [0, 0, 0, 0, 0, 0, 1, 1, 1, -1],    # Horizontal 3\n",
    "    [1, 0, 0, 1, 0, 0, 1, 0, 0, -1],    # Vertical 1\n",
    "    [1, 0, 0, 0, 1, 0, 0, 0, 1, -1],    # Diagonally L -> R\n",
    "    [0, 1, 0, 0, 1, 0, 0, 1, 0, -1],    # Vertical 2\n",
    "    [0, 0, 1, 0, 1, 0, 1, 0, 0, -1],    # Diagonally R -> L\n",
    "    [0, 0, 1, 0, 0, 1, 0, 0, 1, -1],    # Vertical 3\n",
    "    [0, 0, 0, 0, 3, 0, 0, 0, 0, -1],    # Total of each row\n",
    "])"
   ]
  },
  {
   "cell_type": "markdown",
   "metadata": {},
   "source": [
    "Om de vergelijking op te lossen hebben wij ...."
   ]
  },
  {
   "cell_type": "code",
   "execution_count": 5,
   "metadata": {},
   "outputs": [],
   "source": [
    "comparisonMagicSquare = np.zeros(shape=(9, 1))"
   ]
  },
  {
   "cell_type": "markdown",
   "metadata": {},
   "source": [
    "Een aantal getallen die in de vergelijking staan kennen wij al, deze gaan wij nu weghalen uit de vergelijking en aftrekken van de ..."
   ]
  },
  {
   "cell_type": "code",
   "execution_count": 6,
   "metadata": {},
   "outputs": [],
   "source": [
    "for rowKey in range(len(defaultComparisonArray) - 1):\n",
    "    for numberKey in range(len(defaultComparisonArray[rowKey]) - 1):\n",
    "\n",
    "        # Als wij de waarde niet kennen gaan wij door\n",
    "        if magicSquare[numberKey] is None:\n",
    "            continue\n",
    "\n",
    "        comparisonMagicSquare[rowKey] -= defaultComparisonArray[rowKey][numberKey] * magicSquare[numberKey]\n",
    "        defaultComparisonArray[rowKey][numberKey] = 0"
   ]
  },
  {
   "cell_type": "markdown",
   "metadata": {},
   "source": [
    "Omdat de dimensies niet kloppen en wij dus niet kunnen vermenigvuldigen gaan wij de (pseudo) inverse van de matrix berekenen, omdat deze wel de correcte dimensies heeft."
   ]
  },
  {
   "cell_type": "code",
   "execution_count": 7,
   "metadata": {},
   "outputs": [],
   "source": [
    "inverseComparisonArray = np.linalg.pinv(defaultComparisonArray)"
   ]
  },
  {
   "cell_type": "markdown",
   "metadata": {},
   "source": [
    "Dit is de belangerijkste stap, wij gaan nu de inverse van de vergelijkingen matrix nemen en deze vermenigvuldigen met de 'comparisonMagicSquare'"
   ]
  },
  {
   "cell_type": "code",
   "execution_count": null,
   "metadata": {},
   "outputs": [],
   "source": [
    "solutionVector = inverseComparisonArray.dot(comparisonMagicSquare)"
   ]
  },
  {
   "cell_type": "markdown",
   "metadata": {},
   "source": [
    "Nu wij de antwoorden hebben berekent gaan wij de getallen die wij vooraf niet wisten invullen."
   ]
  },
  {
   "cell_type": "code",
   "execution_count": 8,
   "metadata": {},
   "outputs": [],
   "source": [
    "for item in range(len(magicSquare) - 1):\n",
    "    if magicSquare[item] is None:\n",
    "        magicSquare[item] = solutionVector[item][0]"
   ]
  },
  {
   "cell_type": "markdown",
   "metadata": {},
   "source": [
    "Nu wij de antwoorden hebben hoeven wij ze alleen nog maar leesbaar te maken, hier zetten wij de vector om naar een matrix omdat dat logischer is voor een persoon."
   ]
  },
  {
   "cell_type": "code",
   "execution_count": 9,
   "metadata": {},
   "outputs": [],
   "source": [
    "finalSolution = np.around(magicSquare.astype(np.double), 3)\n",
    "finalSolution.resize(3, 3)"
   ]
  },
  {
   "cell_type": "code",
   "execution_count": 11,
   "metadata": {},
   "outputs": [
    {
     "name": "stdout",
     "output_type": "stream",
     "text": [
      "[[8. 1. 6.]\n",
      " [3. 5. 7.]\n",
      " [4. 9. 2.]]\n"
     ]
    }
   ],
   "source": [
    "print(finalSolution)"
   ]
  }
 ],
 "metadata": {
  "kernelspec": {
   "display_name": "Python 3",
   "language": "python",
   "name": "python3"
  },
  "language_info": {
   "codemirror_mode": {
    "name": "ipython",
    "version": 3
   },
   "file_extension": ".py",
   "mimetype": "text/x-python",
   "name": "python",
   "nbconvert_exporter": "python",
   "pygments_lexer": "ipython3",
   "version": "3.7.3"
  }
 },
 "nbformat": 4,
 "nbformat_minor": 2
}
