{
 "cells": [
  {
   "cell_type": "markdown",
   "metadata": {},
   "source": [
    "# Oplossen van magische vierkanten"
   ]
  },
  {
   "cell_type": "markdown",
   "metadata": {},
   "source": [
    "Het magische vierkant\n",
    "\n",
    "\\begin{bmatrix}\n",
    "    8 & A_{2} & A_{3} \\\\\n",
    "    A_{4} & A_{5} & 2 \\\\\n",
    "    A_{7} & A_{8} & 9 \\\\\n",
    "\\end{bmatrix}\n"
   ]
  },
  {
   "cell_type": "markdown",
   "metadata": {},
   "source": [
    "De eerste stap is het opstellen van de vergelijkingen"
   ]
  },
  {
   "cell_type": "markdown",
   "metadata": {},
   "source": [
    "**Horizontaal**\n",
    "\n",
    "$\n",
    "8 \\cdot 1 + A_{2} \\cdot 1 + A_{3} \\cdot 1 - R = 0\\\\\n",
    "A_{4} \\cdot 1 + A_{5} \\cdot 1 + 2 \\cdot 1 - R = 0 \\\\\n",
    "A_{7} \\cdot 1 + A_{8} \\cdot 1 + 9 \\cdot 1 - R = 0 \\\\ \n",
    "$\n",
    "\n",
    "**Verticaal**\n",
    "\n",
    "$\n",
    "8 \\cdot 1 + A_{4} \\cdot 1 + A_{7} \\cdot 1 - R = 0 \\\\\n",
    "A_{2} \\cdot 1 + A_{5} \\cdot 1 + A_{8} \\cdot 1 - R = 0  \\\\\n",
    "A_{3} \\cdot 1 + 2 \\cdot 1 + 9 \\cdot 1 - R = 0 \\\\ \n",
    "$\n",
    "\n",
    "**Diagnonaal**\n",
    "\n",
    "$\n",
    "8 \\cdot 1 + A_{3} \\cdot 1 + 9 \\cdot 1 - R = 0 \\\\\n",
    "A_{3} \\cdot 1 + A_{5} \\cdot 1 + A_{6} \\cdot 1 - R = 0  \\\\\n",
    "$\n",
    "\n",
    "**Totaal**\n",
    "\n",
    "$\n",
    "A_{5} \\cdot 3 - R = 0\n",
    "$"
   ]
  },
  {
   "cell_type": "markdown",
   "metadata": {},
   "source": [
    "Dit gaan wij nu omzetten naar een Matrix, dit ziet er uit als volgt"
   ]
  },
  {
   "cell_type": "markdown",
   "metadata": {},
   "source": [
    "\\begin{bmatrix}\n",
    "    1 &  1 &  1 &  0 &  0 &  0 &  0 &  0 &  0 &  -1 \\\\\n",
    "    0 &  0 &  0 &  1 &  1 &  1 &  0 &  0 &  0 &  -1 \\\\\n",
    "    0 &  0 &  0 &  0 &  0 &  0 &  1 &  1 &  1 &  -1 \\\\\n",
    "    1 &  0 &  0 &  1 &  0 &  0 &  1 &  0 &  0 &  -1 \\\\\n",
    "    0 &  1 &  0 &  0 &  1 &  0 &  0 &  1 &  0 &  -1 \\\\\n",
    "    0 &  0 &  1 &  0 &  0 &  1 &  0 &  0 &  1 &  -1 \\\\\n",
    "    1 &  0 &  0 &  0 &  1 &  0 &  0 &  0 &  1 &  -1 \\\\\n",
    "    0 &  0 &  1 &  0 &  1 &  0 &  1 &  0 &  0 &  -1 \\\\\n",
    "    0 &  0 &  0 &  0 &  3 &  0 &  0 &  0 &  0 &  -1 \\\\\n",
    "\\end{bmatrix}"
   ]
  },
  {
   "cell_type": "markdown",
   "metadata": {},
   "source": [
    "Om de waardes van het magische vierkant te achterhalen moeten wij deze vergelijking oplossen, dit kan doormiddel van Reduced Row Echelon Form."
   ]
  },
  {
   "cell_type": "markdown",
   "metadata": {},
   "source": [
    "\n",
    "\\begin{array}{@{}cccccccccc|c@{}}\n",
    "    0 & 1 & 1 &  0 &  0 &  0 &  0 &  0 &  0 & -1 & -8 \\\\\n",
    "    0 & 0 & 0 &  1 &  1 &  1 &  0 &  0 &  0 & -1 & -2 \\\\\n",
    "    0 & 0 & 0 &  0 &  0 &  0 &  1 &  0 &  0 & -1 & -9 \\\\\n",
    "    0 & 0 & 0 &  1 &  0 &  0 &  1 &  0 &  0 & -1 & 0 \\\\\n",
    "    0 & 1 & 0 &  0 &  1 &  0 &  0 &  0 &  0 & -1 & 11 \\\\\n",
    "    0 & 0 & 1 &  0 &  0 &  1 &  0 &  0 &  0 & -1 & 17 \\\\\n",
    "    0 & 0 & 0 &  0 &  1 &  0 &  0 &  0 &  0 & -1 & 0 \\\\  \n",
    "    0 & 0 & 1 &  0 &  1 &  0 &  1 &  0 &  0 & -1 & 0 \\\\  \n",
    "    0 & 0 & 0 &  0 &  3 &  0 &  0 &  0 &  0 & -1 & 0 \\\\  \n",
    "\\end{array}"
   ]
  },
  {
   "cell_type": "code",
   "execution_count": null,
   "metadata": {},
   "outputs": [],
   "source": []
  }
 ],
 "metadata": {
  "kernelspec": {
   "display_name": "Python 3",
   "language": "python",
   "name": "python3"
  },
  "language_info": {
   "codemirror_mode": {
    "name": "ipython",
    "version": 3
   },
   "file_extension": ".py",
   "mimetype": "text/x-python",
   "name": "python",
   "nbconvert_exporter": "python",
   "pygments_lexer": "ipython3",
   "version": "3.7.3"
  }
 },
 "nbformat": 4,
 "nbformat_minor": 2
}
