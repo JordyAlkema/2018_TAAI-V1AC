{
 "cells": [
  {
   "cell_type": "markdown",
   "metadata": {},
   "source": [
    "# Doorrekenen van een neuraal netwerk"
   ]
  },
  {
   "cell_type": "markdown",
   "metadata": {},
   "source": [
    "In dit document ga ik een neuraal netwerk doorrekenen vanuit een JSON bestand."
   ]
  },
  {
   "cell_type": "markdown",
   "metadata": {},
   "source": [
    "Wij beginnen met het includen van de JSON package, dit zorgt er voor dat wij een stuk makkelijker kunnen omgaan met JSON."
   ]
  },
  {
   "cell_type": "code",
   "execution_count": 1,
   "metadata": {},
   "outputs": [],
   "source": [
    "import json"
   ]
  },
  {
   "cell_type": "markdown",
   "metadata": {},
   "source": [
    "### Configuratie"
   ]
  },
  {
   "cell_type": "markdown",
   "metadata": {},
   "source": [
    "Hier kunnen de parameters van dit script worden ingesteld."
   ]
  },
  {
   "cell_type": "code",
   "execution_count": 2,
   "metadata": {},
   "outputs": [],
   "source": [
    "file_path = \"examples/example-2layer.json\"\n",
    "input_vector = [1, 1, 1, 1, 1]"
   ]
  },
  {
   "cell_type": "markdown",
   "metadata": {},
   "source": [
    "### De functies"
   ]
  },
  {
   "cell_type": "markdown",
   "metadata": {},
   "source": [
    "De eerste en enige functie is de 'dot' functie, deze functie vermenigvuldigd 2 matrices en geeft het resultaat van de vermenigvuldiging terug, dit is dan ook een belangerijk onderdeel van deze opdracht."
   ]
  },
  {
   "cell_type": "markdown",
   "metadata": {},
   "source": [
    "In het volgende stuk code word er gecontroleerd of de matrices de goede structuur hebben of dat ze nog moeten worden omhulst in een array."
   ]
  },
  {
   "cell_type": "markdown",
   "metadata": {},
   "source": [
    "Daarna gaan wij de Matrix maken die wij gaan returnen, deze matrix heeft de hoogte van de 'r_matrix' en de breedte van de 'l_matrix', ook kopieeren wij de 'result_row' omdat python er anders een refrence van maakt, als dat zou gebeuren zou iets aanpassen in de 1e rij er ook voor zorgen dat alle andere rijen worden aangepast naar hetzelfde getal."
   ]
  },
  {
   "cell_type": "markdown",
   "metadata": {},
   "source": [
    "Dan komt het belangerijkste stuk, de vermenigvuldiging."
   ]
  },
  {
   "cell_type": "markdown",
   "metadata": {},
   "source": [
    "En dan returnen wij de nieuwe matrix."
   ]
  },
  {
   "cell_type": "code",
   "execution_count": 3,
   "metadata": {},
   "outputs": [],
   "source": [
    "def dot(l_matrix, r_matrix):\n",
    "    dot_result = []\n",
    "    result_row = []\n",
    "    \n",
    "    # Make sure it has the correct structure, otherwise give it the correct structure\n",
    "    if not hasattr(r_matrix[0], '__len__'):\n",
    "        r_matrix = [r_matrix]\n",
    "\n",
    "    # Make sure it has the correct structure, otherwise give it the correct structure\n",
    "    if not hasattr(l_matrix[0], '__len__'):\n",
    "        l_matrix = [l_matrix]\n",
    "        \n",
    "    for l in range(len(r_matrix[0])):\n",
    "        result_row.append(0)\n",
    "\n",
    "    for l in range(len(l_matrix)):\n",
    "        dot_result.append(result_row.copy())\n",
    "        \n",
    "    for l in range(len(l_matrix)):\n",
    "        for r in range(len(r_matrix[0])):\n",
    "            for rr in range(len(r_matrix)):\n",
    "                dot_result[l][r] += l_matrix[l][rr] * r_matrix[rr][r]\n",
    "                \n",
    "    return dot_result"
   ]
  },
  {
   "cell_type": "markdown",
   "metadata": {},
   "source": [
    "### Het script"
   ]
  },
  {
   "cell_type": "markdown",
   "metadata": {},
   "source": [
    "Nu wij de functies hebben gehad kunnen wij naar het script."
   ]
  },
  {
   "cell_type": "markdown",
   "metadata": {},
   "source": [
    "Eerst openen wij het JSON bestand."
   ]
  },
  {
   "cell_type": "code",
   "execution_count": 4,
   "metadata": {},
   "outputs": [],
   "source": [
    "file = open(file_path, 'r')\n",
    "json_data = json.load(file)\n",
    "\n",
    "matrices = []"
   ]
  },
  {
   "cell_type": "markdown",
   "metadata": {},
   "source": [
    "Nu gaan wij het JSON bestand parsen en de matrices samenstellen voor de vermenigvuldigingen."
   ]
  },
  {
   "cell_type": "code",
   "execution_count": 5,
   "metadata": {},
   "outputs": [],
   "source": [
    "for layer in json_data:\n",
    "    matrix = []\n",
    "    weights = json_data[layer][\"weights\"]\n",
    "    output_layer_size = int(json_data[layer][\"size_out\"])\n",
    "\n",
    "    for node_weights in weights:\n",
    "        node = weights[node_weights]\n",
    "\n",
    "        # Create a new vector with the length of the output size\n",
    "        list_weights = [0] * int(output_layer_size)\n",
    "\n",
    "        for weight in node:\n",
    "            list_weights[int(weight) - 1] = float(node[weight])\n",
    "\n",
    "        matrix.append(list_weights)\n",
    "    matrices.append(matrix)"
   ]
  },
  {
   "cell_type": "markdown",
   "metadata": {},
   "source": [
    "Nu hoeven wij alleen nog alle layers achter elkaar te verminigvuldigen, dit kunnen wij doen met de eerder vermelde dot functie."
   ]
  },
  {
   "cell_type": "code",
   "execution_count": 6,
   "metadata": {},
   "outputs": [],
   "source": [
    "result = None\n",
    "\n",
    "if len(matrices) == 1:\n",
    "    result = dot(input_vector, matrices[0])\n",
    "else:\n",
    "    n_matrices = len(matrices)\n",
    "\n",
    "    prev_result = dot(matrices[-2], matrices[-1])\n",
    "\n",
    "    for i in range(n_matrices - 2, 0):\n",
    "        prev_trans_matrix = dot(matrices[i], prev_result)\n",
    "\n",
    "    result = dot(input_vector, prev_result)"
   ]
  },
  {
   "cell_type": "markdown",
   "metadata": {},
   "source": [
    "En dan hebben wij het resultaat."
   ]
  },
  {
   "cell_type": "code",
   "execution_count": 7,
   "metadata": {},
   "outputs": [
    {
     "name": "stdout",
     "output_type": "stream",
     "text": [
      "[[0.62, 0.35999999999999993]]\n"
     ]
    }
   ],
   "source": [
    "print(result)"
   ]
  }
 ],
 "metadata": {
  "kernelspec": {
   "display_name": "Python 3",
   "language": "python",
   "name": "python3"
  },
  "language_info": {
   "codemirror_mode": {
    "name": "ipython",
    "version": 3
   },
   "file_extension": ".py",
   "mimetype": "text/x-python",
   "name": "python",
   "nbconvert_exporter": "python",
   "pygments_lexer": "ipython3",
   "version": "3.7.3"
  }
 },
 "nbformat": 4,
 "nbformat_minor": 2
}
