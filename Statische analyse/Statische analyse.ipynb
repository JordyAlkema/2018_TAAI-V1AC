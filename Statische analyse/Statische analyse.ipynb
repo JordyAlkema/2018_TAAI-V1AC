{
 "cells": [
  {
   "cell_type": "markdown",
   "metadata": {},
   "source": [
    "## Importeren van de data\n",
    "\n",
    "Als eerste moeten we de data importen. We openen daarvoor de csv file en zetten de data in verschillende variabelen:\n",
    "\n",
    "* columns is een dictionary die de naam van de kolom vertaalt naar de index voor de data array\n",
    "* rows is een list van elke rij die als een list is opgeslagen\n",
    "* data is een dictionary van de index van de kolom naar een lijst van data voor die kolom"
   ]
  },
  {
   "cell_type": "code",
   "execution_count": 90,
   "metadata": {},
   "outputs": [],
   "source": [
    "import csv\n",
    "import numpy as np\n",
    "import math\n",
    "import matplotlib.pyplot as plt\n",
    "\n",
    "filename = 'utrecht.csv'"
   ]
  },
  {
   "cell_type": "markdown",
   "metadata": {},
   "source": [
    "## Functies"
   ]
  },
  {
   "cell_type": "code",
   "execution_count": 91,
   "metadata": {},
   "outputs": [],
   "source": [
    "def modus(list):\n",
    "    number_count = {}\n",
    "    \n",
    "    for number in list:\n",
    "        if number in number_count:\n",
    "            number_count[number] = number_count[number] + 1\n",
    "        else:\n",
    "            number_count[number] = 0\n",
    "    \n",
    "    return max(number_count, key=number_count.get)"
   ]
  },
  {
   "cell_type": "code",
   "execution_count": 92,
   "metadata": {},
   "outputs": [],
   "source": [
    "def average(list):\n",
    "    total_value = 0\n",
    "    \n",
    "    for number in list:\n",
    "        total_value = total_value + number\n",
    "    \n",
    "    return (total_value / len(list))"
   ]
  },
  {
   "cell_type": "code",
   "execution_count": 93,
   "metadata": {},
   "outputs": [],
   "source": [
    "def median(list):\n",
    "    list.sort()\n",
    "\n",
    "    # Check if there exists a center\n",
    "    if len(list) % 2:\n",
    "        # Take the center number\n",
    "        median = list[len(list) / 2]\n",
    "    else:\n",
    "        # If there is no middle take the average of the 2 center numbers\n",
    "        center = math.ceil(len(list) / 2)\n",
    "        median = (list[center] + list[center + 1]) / 2\n",
    "    \n",
    "    return median"
   ]
  },
  {
   "cell_type": "code",
   "execution_count": 94,
   "metadata": {},
   "outputs": [],
   "source": [
    "def standard_deviation(list):\n",
    "    total = 0\n",
    "    individual_square_total = 0\n",
    "    total_square_divided = 0\n",
    "    \n",
    "    for number in list:\n",
    "        total = total + number\n",
    "        individual_square_total = individual_square_total + (number * number)\n",
    "    \n",
    "    square_divided = (total * total) / len(list) \n",
    "    variance = (individual_square_total - square_divided) / (len(list) - 1)\n",
    "    \n",
    "    return math.sqrt(variance)"
   ]
  },
  {
   "cell_type": "code",
   "execution_count": 95,
   "metadata": {},
   "outputs": [],
   "source": [
    "def confidence_interval(list, confidence_percentage):\n",
    "    confidence_z = {\n",
    "        80: 1.282,\n",
    "        85: 1.440,\n",
    "        90: 1.645,\n",
    "        95: 1.960,\n",
    "        99: 2.576,\n",
    "        99.5: 2.807,\n",
    "        99.9: 3.291\n",
    "    }\n",
    "    \n",
    "    sample_size = len(list)\n",
    "    list_average = average(list)\n",
    "    list_standard_deviation = standard_deviation(list)\n",
    "    \n",
    "    confidence = confidence_z[confidence_percentage] * (list_standard_deviation / math.sqrt(sample_size))\n",
    "    \n",
    "    minimum = list_average - confidence\n",
    "    maximum = list_average + confidence\n",
    "    \n",
    "    return minimum, maximum"
   ]
  },
  {
   "cell_type": "code",
   "execution_count": 96,
   "metadata": {},
   "outputs": [],
   "source": [
    "def linear_regression(x_axis, y_axis):\n",
    "    x = average(x_axis)\n",
    "    y = average(y_axis)\n",
    "    \n",
    "    count = len(x_axis)\n",
    "    num = sum(i * j for i, j in zip(x_axis, y_axis)) - count * x * y\n",
    "    denum = sum(i**2 for i in x_axis) - count * x ** 2\n",
    "    b = num / denum\n",
    "    a = y - b * x\n",
    "    \n",
    "    return a, b"
   ]
  },
  {
   "cell_type": "markdown",
   "metadata": {},
   "source": [
    "## Parsen van de data"
   ]
  },
  {
   "cell_type": "code",
   "execution_count": 97,
   "metadata": {},
   "outputs": [],
   "source": [
    "columns = {}\n",
    "rows = []\n",
    "data = {}\n",
    "\n",
    "# hulp functie om te kijken of de waarde een integer is\n",
    "def is_number(s):\n",
    "    try:\n",
    "        int(s)\n",
    "        return True\n",
    "    except ValueError:\n",
    "        return False\n",
    "\n",
    "with open(filename) as csv_file:\n",
    "    csv_reader = csv.reader(csv_file, delimiter=';')\n",
    "    line_count = 0\n",
    "    for row in csv_reader:\n",
    "        # anders reageren als het de eerste regel is, dat zijn namelijk de kolomnamen\n",
    "        if line_count == 0:\n",
    "            line_count += 1\n",
    "            i = 0\n",
    "            for c in row:\n",
    "                columns[c] = i\n",
    "                data[i] = []\n",
    "                i += 1\n",
    "        else:\n",
    "            line_count += 1\n",
    "            # alleen importeren als het maanddata is, niet de cummulatieven over een jaar\n",
    "            if 'JJ00' in row[columns['Perioden']]:\n",
    "                pass\n",
    "            else:\n",
    "                rows.append(row)\n",
    "                i = 0\n",
    "                for c in row:\n",
    "                    if is_number(c):\n",
    "                        data[i].append(int(c))\n",
    "                    else:\n",
    "                        data[i].append(c)\n",
    "                    i = i+1"
   ]
  },
  {
   "cell_type": "markdown",
   "metadata": {},
   "source": [
    "Hier printen we de namen van de kolommen zodat je kan zien welke data er in het bestand zit"
   ]
  },
  {
   "cell_type": "markdown",
   "metadata": {},
   "source": [
    "## Output"
   ]
  },
  {
   "cell_type": "code",
   "execution_count": 99,
   "metadata": {},
   "outputs": [
    {
     "name": "stdout",
     "output_type": "stream",
     "text": [
      "\u001b[1m﻿ID\u001b[0m\n",
      "Gemiddlde: 114955.58737864078\n",
      "Mediaan: 114956.5\n",
      "Modus: 114845\n",
      "Standard deviation: 64.56986865238169\n",
      "\r\n",
      "\n",
      "\u001b[1mBevolkingAanHetBeginVanDePeriode_1\u001b[0m\n",
      "Gemiddlde: 307466.31067961163\n",
      "Mediaan: 308471.0\n",
      "Modus: 260625\n",
      "Standard deviation: 27837.286430176588\n",
      "\r\n",
      "\n",
      "\u001b[1mLevendGeborenKinderen_2\u001b[0m\n",
      "Gemiddlde: 396.0339805825243\n",
      "Mediaan: 399.5\n",
      "Modus: 392\n",
      "Standard deviation: 38.647926908458814\n",
      "\r\n",
      "\n",
      "\u001b[1mOverledenen_3\u001b[0m\n",
      "Gemiddlde: 158.55339805825244\n",
      "Mediaan: 157.5\n",
      "Modus: 156\n",
      "Standard deviation: 18.61535068377176\n",
      "\r\n",
      "\n",
      "\u001b[1mTotaleVestiging_4\u001b[0m\n",
      "Gemiddlde: 2008.8640776699028\n",
      "Mediaan: 1904.0\n",
      "Modus: 1523\n",
      "Standard deviation: 591.2911964472112\n",
      "\r\n",
      "\n",
      "\u001b[1mVestigingVanuitEenAndereGemeente_5\u001b[0m\n",
      "Gemiddlde: 1628.009708737864\n",
      "Mediaan: 1593.0\n",
      "Modus: 1171\n",
      "Standard deviation: 350.0352315409329\n",
      "\r\n",
      "\n",
      "\u001b[1mImmigratie_6\u001b[0m\n",
      "Gemiddlde: 380.8543689320388\n",
      "Mediaan: 288.0\n",
      "Modus: 168\n",
      "Standard deviation: 297.3454723173847\n",
      "\r\n",
      "\n",
      "\u001b[1mTotaalVertrekInclAdmCorrecties_7\u001b[0m\n",
      "Gemiddlde: 1803.0\n",
      "Mediaan: 1732.0\n",
      "Modus: 1614\n",
      "Standard deviation: 388.655481019925\n",
      "\r\n",
      "\n",
      "\u001b[1mVertrekNaarAndereGemeente_8\u001b[0m\n",
      "Gemiddlde: 1465.6456310679612\n",
      "Mediaan: 1397.0\n",
      "Modus: 1239\n",
      "Standard deviation: 294.95095194623445\n",
      "\r\n",
      "\n",
      "\u001b[1mEmigratieInclusiefAdmCorrecties_9\u001b[0m\n",
      "Gemiddlde: 337.3543689320388\n",
      "Mediaan: 315.0\n",
      "Modus: 315\n",
      "Standard deviation: 132.54766526116248\n",
      "\r\n",
      "\n",
      "\u001b[1mBevolkingsgroei_11\u001b[0m\n",
      "Gemiddlde: 450.3252427184466\n",
      "Mediaan: 362.5\n",
      "Modus: 324\n",
      "Standard deviation: 437.1416202332886\n",
      "\r\n",
      "\n",
      "\u001b[1mBevolkingsgroeiSinds1Januari_13\u001b[0m\n",
      "Gemiddlde: 2526.9951456310678\n",
      "Mediaan: 1766.5\n",
      "Modus: 916\n",
      "Standard deviation: 1793.5799260684848\n",
      "\r\n",
      "\n",
      "\u001b[1mBevolkingAanHetEindeVanDePeriode_15\u001b[0m\n",
      "Gemiddlde: 307916.6359223301\n",
      "Mediaan: 309226.0\n",
      "Modus: 260901\n",
      "Standard deviation: 27826.18182529043\n",
      "\r\n",
      "\n"
     ]
    }
   ],
   "source": [
    "for column in columns:\n",
    "    column_data = data[columns[column]]\n",
    "    \n",
    "    if is_number(column_data[0]):\n",
    "        print('\\033[1m' + column + '\\033[0m')\n",
    "        print(\"Gemiddlde: \" + str(average(column_data)))\n",
    "        print(\"Mediaan: \" + str(median(column_data)))\n",
    "        print(\"Modus: \" + str(modus(column_data)))\n",
    "        print(\"Standard deviation: \" + str(standard_deviation(column_data)))\n",
    "        print ('\\r\\n')"
   ]
  },
  {
   "cell_type": "markdown",
   "metadata": {},
   "source": [
    "## Verwerken van de data\n",
    "\n",
    "Hier printen we de data voor alle maanden van het laatste jaar van het vertrek uit de gemeente."
   ]
  },
  {
   "cell_type": "code",
   "execution_count": 100,
   "metadata": {},
   "outputs": [
    {
     "data": {
      "image/png": "[encoded data removed]",
      "text/plain": [
       "<Figure size 432x288 with 1 Axes>"
      ]
     },
     "metadata": {
      "needs_background": "light"
     },
     "output_type": "display_data"
    }
   ],
   "source": [
    "x = data[columns['Perioden']][-13:-1]\n",
    "y = data[columns['BevolkingAanHetEindeVanDePeriode_15']][-13:-1]\n",
    "\n",
    "plt.plot( x, y, 'ro')\n",
    "plt.xticks(rotation=90)\n",
    "plt.show()"
   ]
  },
  {
   "cell_type": "code",
   "execution_count": 101,
   "metadata": {},
   "outputs": [
    {
     "data": {
      "image/png": "[encoded data removed]",
      "text/plain": [
       "<Figure size 432x288 with 1 Axes>"
      ]
     },
     "metadata": {
      "needs_background": "light"
     },
     "output_type": "display_data"
    }
   ],
   "source": [
    "x_range = list(range(len(x))) \n",
    "a, b = linear_regression(x_range, y)\n",
    "y_axis = [a + b * i for i in x_range]\n",
    "\n",
    "plt.scatter(x, y) \n",
    "plt.plot(x, y_axis, 'r-')\n",
    "plt.xticks(rotation=90)\n",
    "plt.show()"
   ]
  },
  {
   "cell_type": "code",
   "execution_count": 105,
   "metadata": {},
   "outputs": [
    {
     "data": {
      "image/png": "[encoded data removed]",
      "text/plain": [
       "<Figure size 432x288 with 1 Axes>"
      ]
     },
     "metadata": {
      "needs_background": "light"
     },
     "output_type": "display_data"
    }
   ],
   "source": [
    "n_bins = (max(y) - min(y)) / 25\n",
    "\n",
    "plt.hist(y, bins=np.arange(min(y), max(y) + n_bins, n_bins))\n",
    "y_average = average(y)\n",
    "plt.axvline(x=y_average, color='orange')\n",
    "\n",
    "for value in confidence_interval(y, 80):\n",
    "    plt.axvline(x=value, color='red', linestyle='-')\n",
    "\n",
    "plt.ylabel('Count')\n",
    "plt.xlabel('Amount')\n",
    "plt.show()"
   ]
  }
 ],
 "metadata": {
  "kernelspec": {
   "display_name": "Python 3",
   "language": "python",
   "name": "python3"
  },
  "language_info": {
   "codemirror_mode": {
    "name": "ipython",
    "version": 3
   },
   "file_extension": ".py",
   "mimetype": "text/x-python",
   "name": "python",
   "nbconvert_exporter": "python",
   "pygments_lexer": "ipython3",
   "version": "3.7.3"
  }
 },
 "nbformat": 4,
 "nbformat_minor": 2
}
